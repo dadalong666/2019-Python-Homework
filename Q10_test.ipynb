{
 "cells": [
  {
   "cell_type": "code",
   "execution_count": 1,
   "metadata": {},
   "outputs": [
    {
     "name": "stdout",
     "output_type": "stream",
     "text": [
      "env: KERAS_BACKEND=tensorflow\n"
     ]
    },
    {
     "name": "stderr",
     "output_type": "stream",
     "text": [
      "Using TensorFlow backend.\n"
     ]
    }
   ],
   "source": [
    "%env KERAS_BACKEND=tensorflow\n",
    "import numpy as np\n",
    "import matplotlib.pyplot as plt\n",
    "from keras.datasets import imdb"
   ]
  },
  {
   "cell_type": "code",
   "execution_count": 2,
   "metadata": {},
   "outputs": [
    {
     "name": "stdout",
     "output_type": "stream",
     "text": [
      "Downloading data from https://s3.amazonaws.com/text-datasets/imdb.npz\n",
      "17465344/17464789 [==============================] - 276s 16us/step\n"
     ]
    }
   ],
   "source": [
    "(x_train_c, y_train_c), (x_test_c, y_test) = imdb.load_data(num_words=10000)"
   ]
  },
  {
   "cell_type": "code",
   "execution_count": 3,
   "metadata": {},
   "outputs": [
    {
     "name": "stdout",
     "output_type": "stream",
     "text": [
      "訓練總筆數 25000\n",
      "測試總筆數 25000\n"
     ]
    }
   ],
   "source": [
    "print('訓練總筆數',len(x_train_c))\n",
    "print('測試總筆數',len(x_test_c))"
   ]
  },
  {
   "cell_type": "code",
   "execution_count": 4,
   "metadata": {},
   "outputs": [],
   "source": [
    "from keras.preprocessing import sequence"
   ]
  },
  {
   "cell_type": "code",
   "execution_count": null,
   "metadata": {},
   "outputs": [],
   "source": [
    "x_train_sps = sequence.pad_sequences(x_train_c, maxlen=150)\n",
    "x_test_sps = sequence.pad_sequences(x_test_c, maxlen=150)"
   ]
  },
  {
   "cell_type": "code",
   "execution_count": null,
   "metadata": {},
   "outputs": [
    {
     "data": {
      "text/plain": [
       "(25000, 150)"
      ]
     },
     "execution_count": 6,
     "metadata": {},
     "output_type": "execute_result"
    }
   ],
   "source": [
    "x_train_sps.shape"
   ]
  },
  {
   "cell_type": "code",
   "execution_count": null,
   "metadata": {},
   "outputs": [],
   "source": [
    "N = 3 #老師版～壓到3維\n",
    "K = 4 #老師版～LSTM有4個神經元"
   ]
  },
  {
   "cell_type": "code",
   "execution_count": null,
   "metadata": {},
   "outputs": [],
   "source": [
    "from keras.models import Sequential\n",
    "from keras.layers import Dense, Embedding, LSTM"
   ]
  },
  {
   "cell_type": "code",
   "execution_count": null,
   "metadata": {},
   "outputs": [
    {
     "name": "stdout",
     "output_type": "stream",
     "text": [
      "WARNING:tensorflow:From C:\\Users\\Claire\\Anaconda3\\lib\\site-packages\\tensorflow\\python\\framework\\op_def_library.py:263: colocate_with (from tensorflow.python.framework.ops) is deprecated and will be removed in a future version.\n",
      "Instructions for updating:\n",
      "Colocations handled automatically by placer.\n"
     ]
    }
   ],
   "source": [
    "model = Sequential()\n",
    "model.add(Embedding(10000,N))\n",
    "model.add(LSTM(K))\n",
    "model.add(Dense(1, activation='sigmoid'))"
   ]
  },
  {
   "cell_type": "code",
   "execution_count": null,
   "metadata": {},
   "outputs": [],
   "source": [
    "model.compile(loss='binary_crossentropy',\n",
    "             optimizer='adam',\n",
    "             metrics=['accuracy'])"
   ]
  },
  {
   "cell_type": "code",
   "execution_count": null,
   "metadata": {},
   "outputs": [
    {
     "name": "stdout",
     "output_type": "stream",
     "text": [
      "_________________________________________________________________\n",
      "Layer (type)                 Output Shape              Param #   \n",
      "=================================================================\n",
      "embedding_1 (Embedding)      (None, None, 3)           30000     \n",
      "_________________________________________________________________\n",
      "lstm_1 (LSTM)                (None, 4)                 128       \n",
      "_________________________________________________________________\n",
      "dense_1 (Dense)              (None, 1)                 5         \n",
      "=================================================================\n",
      "Total params: 30,133\n",
      "Trainable params: 30,133\n",
      "Non-trainable params: 0\n",
      "_________________________________________________________________\n"
     ]
    }
   ],
   "source": [
    "model.summary()"
   ]
  },
  {
   "cell_type": "code",
   "execution_count": null,
   "metadata": {},
   "outputs": [
    {
     "name": "stdout",
     "output_type": "stream",
     "text": [
      "WARNING:tensorflow:From C:\\Users\\Claire\\Anaconda3\\lib\\site-packages\\tensorflow\\python\\ops\\math_ops.py:3066: to_int32 (from tensorflow.python.ops.math_ops) is deprecated and will be removed in a future version.\n",
      "Instructions for updating:\n",
      "Use tf.cast instead.\n",
      "Train on 25000 samples, validate on 25000 samples\n",
      "Epoch 1/5\n",
      " 1920/25000 [=>............................] - ETA: 1:52 - loss: 0.6928 - acc: 0.5042"
     ]
    }
   ],
   "source": [
    "model_fit_his = model.fit(x_train_sps,y_train_c,\n",
    "                          batch_size=32,\n",
    "                          epochs=2,\n",
    "                          validation_data = (x_test_sps, y_test))"
   ]
  },
  {
   "cell_type": "markdown",
   "metadata": {},
   "source": [
    "### 準確率約95%"
   ]
  },
  {
   "cell_type": "code",
   "execution_count": null,
   "metadata": {},
   "outputs": [],
   "source": [
    "N1 = 24 #文字要壓到N1維\n",
    "K1 = 4 #LSTM有K1個神經元\n",
    "\n",
    "model_c1 = Sequential()\n",
    "\n",
    "model_c1.add(Embedding(10000,N1))\n",
    "model_c1.add(LSTM(K1))\n",
    "\n",
    "model_c1.add(Dense(1, activation='sigmoid'))\n",
    "\n",
    "model_c1.compile(loss='binary_crossentropy',\n",
    "                 optimizer='adam',\n",
    "                 metrics=['accuracy'])"
   ]
  },
  {
   "cell_type": "code",
   "execution_count": null,
   "metadata": {},
   "outputs": [],
   "source": [
    "model_c1.summary()"
   ]
  },
  {
   "cell_type": "code",
   "execution_count": null,
   "metadata": {},
   "outputs": [],
   "source": [
    "model_history_c1 = model_c1.fit(x_train_sps,y_train_c,\n",
    "                                batch_size=32,\n",
    "                                epochs=5,\n",
    "                                validation_data = (x_test_sps, y_test))"
   ]
  },
  {
   "cell_type": "markdown",
   "metadata": {},
   "source": [
    "### 準確率約95.1%"
   ]
  },
  {
   "cell_type": "code",
   "execution_count": null,
   "metadata": {},
   "outputs": [],
   "source": [
    "from keras.optimizers import SGD, Adam"
   ]
  },
  {
   "cell_type": "markdown",
   "metadata": {},
   "source": [
    "## 嘗試將Adam加入學習率設定和改用SGD訓練"
   ]
  },
  {
   "cell_type": "code",
   "execution_count": null,
   "metadata": {},
   "outputs": [],
   "source": [
    "#N1 = 24 #文字要壓到N1維\n",
    "#K1 = 4 #LSTM有K1個神經元\n",
    "\n",
    "model_c2 = Sequential()\n",
    "\n",
    "model_c2.add(Embedding(10000,N1))\n",
    "model_c2.add(LSTM(K1))\n",
    "\n",
    "model_c2.add(Dense(1, activation='sigmoid'))\n",
    "\n",
    "model_c2.compile(loss='binary_crossentropy',\n",
    "                 optimizer=Adam(lr=0.01),\n",
    "                 metrics=['accuracy'])\n",
    "\n",
    "model_history_c2 = model_c2.fit(x_train_sps,y_train_c,\n",
    "                                batch_size=32,\n",
    "                                epochs=5,\n",
    "                                validation_data = (x_test_sps, y_test))"
   ]
  },
  {
   "cell_type": "markdown",
   "metadata": {},
   "source": [
    "### 設定學習率，準確率只能稍微再提升一點點，準確率約96.8%"
   ]
  },
  {
   "cell_type": "code",
   "execution_count": null,
   "metadata": {},
   "outputs": [],
   "source": [
    "#N1 = 24 #文字要壓到N1維\n",
    "#K1 = 4 #LSTM有K1個神經元\n",
    "\n",
    "model_c3 = Sequential()\n",
    "\n",
    "model_c3.add(Embedding(10000,N1))\n",
    "model_c3.add(LSTM(K1))\n",
    "\n",
    "model_c3.add(Dense(1, activation='sigmoid'))\n",
    "\n",
    "model_c3.compile(loss='binary_crossentropy',\n",
    "                 optimizer='SGD',\n",
    "                 metrics=['accuracy'])\n",
    "\n",
    "model_history_c3 = model_c3.fit(x_train_sps,y_train_c,\n",
    "                                batch_size=32,\n",
    "                                epochs=5,\n",
    "                                validation_data = (x_test_sps, y_test))"
   ]
  },
  {
   "cell_type": "markdown",
   "metadata": {},
   "source": [
    "### 超弱的SGD，同樣的epoch次數下，根本沒準確度可言...52.9%"
   ]
  },
  {
   "cell_type": "code",
   "execution_count": null,
   "metadata": {},
   "outputs": [],
   "source": []
  }
 ],
 "metadata": {
  "kernelspec": {
   "display_name": "Python 3",
   "language": "python",
   "name": "python3"
  },
  "language_info": {
   "codemirror_mode": {
    "name": "ipython",
    "version": 3
   },
   "file_extension": ".py",
   "mimetype": "text/x-python",
   "name": "python",
   "nbconvert_exporter": "python",
   "pygments_lexer": "ipython3",
   "version": "3.7.1"
  }
 },
 "nbformat": 4,
 "nbformat_minor": 2
}
