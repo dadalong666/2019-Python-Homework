{
  "nbformat": 4,
  "nbformat_minor": 0,
  "metadata": {
    "colab": {
      "name": "Q9_Claire.ipynb",
      "version": "0.3.2",
      "provenance": [],
      "collapsed_sections": [],
      "include_colab_link": true
    },
    "kernelspec": {
      "name": "python3",
      "display_name": "Python 3"
    },
    "accelerator": "GPU"
  },
  "cells": [
    {
      "cell_type": "markdown",
      "metadata": {
        "id": "view-in-github",
        "colab_type": "text"
      },
      "source": [
        "<a href=\"https://colab.research.google.com/github/dadalong666/2019-Python-Homework/blob/master/Q9_Claire.ipynb\" target=\"_parent\"><img src=\"https://colab.research.google.com/assets/colab-badge.svg\" alt=\"Open In Colab\"/></a>"
      ]
    },
    {
      "cell_type": "code",
      "metadata": {
        "id": "HlGv4OrxirRy",
        "colab_type": "code",
        "outputId": "066c7851-19b4-467b-fdc9-80260abfaff4",
        "colab": {
          "base_uri": "https://localhost:8080/",
          "height": 34
        }
      },
      "source": [
        "from keras.models import Sequential\n",
        "from keras.layers import Dense,Dropout,Flatten,Conv2D,MaxPooling2D\n",
        "from keras.datasets import mnist\n",
        "from keras.utils import np_utils\n",
        "from keras.optimizers import SGD, Adamax, Adam\n",
        "import numpy as np\n",
        "from matplotlib import pyplot as plt"
      ],
      "execution_count": 1,
      "outputs": [
        {
          "output_type": "stream",
          "text": [
            "Using TensorFlow backend.\n"
          ],
          "name": "stderr"
        }
      ]
    },
    {
      "cell_type": "code",
      "metadata": {
        "id": "vOASccc6iuf6",
        "colab_type": "code",
        "outputId": "dbc1b55f-f884-488a-c5f5-7716679da8b7",
        "colab": {
          "base_uri": "https://localhost:8080/",
          "height": 50
        }
      },
      "source": [
        "(X_train, y_Train), (X_Test, y_Test) = mnist.load_data()"
      ],
      "execution_count": 2,
      "outputs": [
        {
          "output_type": "stream",
          "text": [
            "Downloading data from https://s3.amazonaws.com/img-datasets/mnist.npz\n",
            "11493376/11490434 [==============================] - 1s 0us/step\n"
          ],
          "name": "stdout"
        }
      ]
    },
    {
      "cell_type": "code",
      "metadata": {
        "id": "ZUmpGLpuQ2jJ",
        "colab_type": "code",
        "colab": {}
      },
      "source": [
        "X_train_C = X_train.reshape(X_train.shape[0], 28, 28, 1).astype('float32')\n",
        "X_Test4_C = X_Test.reshape(X_Test.shape[0], 28, 28, 1).astype('float32')"
      ],
      "execution_count": 0,
      "outputs": []
    },
    {
      "cell_type": "code",
      "metadata": {
        "id": "q_pzQn_Pi-BO",
        "colab_type": "code",
        "colab": {}
      },
      "source": [
        "X_train_C_norm = X_train_C / 255\n",
        "X_Test4_C_norm = X_Test4_C /255\n",
        "  \n",
        "y_TOH = np_utils.to_categorical(y_Train)\n",
        "y_TestOH = np_utils.to_categorical(y_Test)"
      ],
      "execution_count": 0,
      "outputs": []
    },
    {
      "cell_type": "code",
      "metadata": {
        "id": "s3Bbx1o-i_aj",
        "colab_type": "code",
        "outputId": "286c54bc-ec0b-4837-e8d4-3f2b5a439ad7",
        "colab": {
          "base_uri": "https://localhost:8080/",
          "height": 440
        }
      },
      "source": [
        "model = Sequential()\n",
        "\n",
        "#第1層CNN&池化器\n",
        "model.add(Conv2D(filters=64, kernel_size=(5,5), padding='same', input_shape=(28,28,1), activation='relu'))\n",
        "model.add(MaxPooling2D(pool_size=(3,3)))\n",
        "\n",
        "#第2層CNN&池化器\n",
        "model.add(Conv2D(filters=32, kernel_size=(5,5), padding='same', input_shape=(28,28,1), activation='relu'))\n",
        "model.add(MaxPooling2D(pool_size=(3,3)))\n",
        "\n",
        "#Dropout層\n",
        "model.add(Dropout(0))\n",
        "\n",
        "#平坦層\n",
        "model.add(Flatten())\n",
        "\n",
        "#全連接層\n",
        "model.add(Dense(10, activation='softmax'))\n",
        "\n",
        "#顯示CNN架構\n",
        "model.summary()"
      ],
      "execution_count": 5,
      "outputs": [
        {
          "output_type": "stream",
          "text": [
            "WARNING:tensorflow:From /usr/local/lib/python3.6/dist-packages/tensorflow/python/framework/op_def_library.py:263: colocate_with (from tensorflow.python.framework.ops) is deprecated and will be removed in a future version.\n",
            "Instructions for updating:\n",
            "Colocations handled automatically by placer.\n",
            "_________________________________________________________________\n",
            "Layer (type)                 Output Shape              Param #   \n",
            "=================================================================\n",
            "conv2d_1 (Conv2D)            (None, 28, 28, 64)        1664      \n",
            "_________________________________________________________________\n",
            "max_pooling2d_1 (MaxPooling2 (None, 9, 9, 64)          0         \n",
            "_________________________________________________________________\n",
            "conv2d_2 (Conv2D)            (None, 9, 9, 32)          51232     \n",
            "_________________________________________________________________\n",
            "max_pooling2d_2 (MaxPooling2 (None, 3, 3, 32)          0         \n",
            "_________________________________________________________________\n",
            "dropout_1 (Dropout)          (None, 3, 3, 32)          0         \n",
            "_________________________________________________________________\n",
            "flatten_1 (Flatten)          (None, 288)               0         \n",
            "_________________________________________________________________\n",
            "dense_1 (Dense)              (None, 10)                2890      \n",
            "=================================================================\n",
            "Total params: 55,786\n",
            "Trainable params: 55,786\n",
            "Non-trainable params: 0\n",
            "_________________________________________________________________\n"
          ],
          "name": "stdout"
        }
      ]
    },
    {
      "cell_type": "code",
      "metadata": {
        "id": "_TiZxgQ0jOwD",
        "colab_type": "code",
        "outputId": "d573f076-66a4-4677-ee0d-7330f45e1abd",
        "colab": {
          "base_uri": "https://localhost:8080/",
          "height": 826
        }
      },
      "source": [
        "model.compile(loss='categorical_crossentropy', optimizer=Adamax(lr=0.05), metrics=['accuracy'])\n",
        "train_history_C1 = model.fit(x=X_train_C_norm, y=y_TOH, validation_split=0.2, epochs=20, batch_size=100, verbose=2)\n",
        "score_C1 = model.evaluate(X_train_C, y_TOH)\n",
        "print()\n",
        "print(\"\\t 準確度 = {:2.1f}%\".format(score_C1[1]*100.0))"
      ],
      "execution_count": 6,
      "outputs": [
        {
          "output_type": "stream",
          "text": [
            "WARNING:tensorflow:From /usr/local/lib/python3.6/dist-packages/tensorflow/python/ops/math_ops.py:3066: to_int32 (from tensorflow.python.ops.math_ops) is deprecated and will be removed in a future version.\n",
            "Instructions for updating:\n",
            "Use tf.cast instead.\n",
            "Train on 48000 samples, validate on 12000 samples\n",
            "Epoch 1/20\n",
            " - 8s - loss: 0.6236 - acc: 0.7990 - val_loss: 0.1384 - val_acc: 0.9571\n",
            "Epoch 2/20\n",
            " - 2s - loss: 0.1351 - acc: 0.9579 - val_loss: 0.1192 - val_acc: 0.9638\n",
            "Epoch 3/20\n",
            " - 2s - loss: 0.1172 - acc: 0.9638 - val_loss: 0.1426 - val_acc: 0.9566\n",
            "Epoch 4/20\n",
            " - 2s - loss: 0.1042 - acc: 0.9673 - val_loss: 0.0978 - val_acc: 0.9713\n",
            "Epoch 5/20\n",
            " - 2s - loss: 0.0946 - acc: 0.9714 - val_loss: 0.0971 - val_acc: 0.9709\n",
            "Epoch 6/20\n",
            " - 2s - loss: 0.0900 - acc: 0.9718 - val_loss: 0.1007 - val_acc: 0.9698\n",
            "Epoch 7/20\n",
            " - 2s - loss: 0.0834 - acc: 0.9741 - val_loss: 0.0921 - val_acc: 0.9718\n",
            "Epoch 8/20\n",
            " - 2s - loss: 0.0827 - acc: 0.9746 - val_loss: 0.0899 - val_acc: 0.9743\n",
            "Epoch 9/20\n",
            " - 2s - loss: 0.0712 - acc: 0.9782 - val_loss: 0.0979 - val_acc: 0.9718\n",
            "Epoch 10/20\n",
            " - 2s - loss: 0.0688 - acc: 0.9789 - val_loss: 0.1043 - val_acc: 0.9681\n",
            "Epoch 11/20\n",
            " - 2s - loss: 0.0654 - acc: 0.9798 - val_loss: 0.0799 - val_acc: 0.9794\n",
            "Epoch 12/20\n",
            " - 2s - loss: 0.0592 - acc: 0.9819 - val_loss: 0.0813 - val_acc: 0.9763\n",
            "Epoch 13/20\n",
            " - 2s - loss: 0.0577 - acc: 0.9829 - val_loss: 0.0830 - val_acc: 0.9784\n",
            "Epoch 14/20\n",
            " - 2s - loss: 0.0508 - acc: 0.9846 - val_loss: 0.0735 - val_acc: 0.9812\n",
            "Epoch 15/20\n",
            " - 2s - loss: 0.0485 - acc: 0.9845 - val_loss: 0.0888 - val_acc: 0.9757\n",
            "Epoch 16/20\n",
            " - 2s - loss: 0.0511 - acc: 0.9842 - val_loss: 0.0912 - val_acc: 0.9780\n",
            "Epoch 17/20\n",
            " - 3s - loss: 0.0492 - acc: 0.9849 - val_loss: 0.0831 - val_acc: 0.9781\n",
            "Epoch 18/20\n",
            " - 3s - loss: 0.0419 - acc: 0.9872 - val_loss: 0.0796 - val_acc: 0.9815\n",
            "Epoch 19/20\n",
            " - 2s - loss: 0.0439 - acc: 0.9870 - val_loss: 0.0813 - val_acc: 0.9802\n",
            "Epoch 20/20\n",
            " - 2s - loss: 0.0438 - acc: 0.9871 - val_loss: 0.0655 - val_acc: 0.9847\n",
            "60000/60000 [==============================] - 3s 48us/step\n",
            "\n",
            "\t 準確度 = 74.6%\n"
          ],
          "name": "stdout"
        }
      ]
    },
    {
      "cell_type": "code",
      "metadata": {
        "id": "VpaJ1zxBOBdJ",
        "colab_type": "code",
        "outputId": "7cd26768-e60c-467c-ff10-7d6df5b206fb",
        "colab": {
          "base_uri": "https://localhost:8080/",
          "height": 50
        }
      },
      "source": [
        "print(\"\\t[Info] 從第120筆開始，顯示10筆預測結果:\")  \n",
        "X = X_Test4_C_norm[120:130]\n",
        "prediction = model.predict_classes(X)\n",
        "print(prediction)"
      ],
      "execution_count": 7,
      "outputs": [
        {
          "output_type": "stream",
          "text": [
            "\t[Info] 從第120筆開始，顯示10筆預測結果:\n",
            "[5 4 7 6 7 9 0 5 8 5]\n"
          ],
          "name": "stdout"
        }
      ]
    },
    {
      "cell_type": "code",
      "metadata": {
        "id": "h-x2NtsOOJv4",
        "colab_type": "code",
        "outputId": "1e19ffb4-ec1b-4157-946a-f6f16eb24dc3",
        "colab": {
          "base_uri": "https://localhost:8080/",
          "height": 269
        }
      },
      "source": [
        "plt.imshow(X_Test[122])\n",
        "plt.show()"
      ],
      "execution_count": 8,
      "outputs": [
        {
          "output_type": "display_data",
          "data": {
            "image/png": "[encoded data removed]",
            "text/plain": [
              "<Figure size 432x288 with 1 Axes>"
            ]
          },
          "metadata": {
            "tags": []
          }
        }
      ]
    },
    {
      "cell_type": "markdown",
      "metadata": {
        "id": "Em7J_8FER1ED",
        "colab_type": "text"
      },
      "source": [
        "### 第122筆好像是對的"
      ]
    },
    {
      "cell_type": "code",
      "metadata": {
        "id": "lwiFGppcR-Jf",
        "colab_type": "code",
        "outputId": "be36ca2f-ec6e-48c1-e54a-1b0bbbc19dab",
        "colab": {
          "base_uri": "https://localhost:8080/",
          "height": 269
        }
      },
      "source": [
        "plt.imshow(X_Test[125])\n",
        "plt.show()"
      ],
      "execution_count": 9,
      "outputs": [
        {
          "output_type": "display_data",
          "data": {
            "image/png": "[encoded data removed]",
            "text/plain": [
              "<Figure size 432x288 with 1 Axes>"
            ]
          },
          "metadata": {
            "tags": []
          }
        }
      ]
    },
    {
      "cell_type": "markdown",
      "metadata": {
        "id": "PPne4DGhSDOS",
        "colab_type": "text"
      },
      "source": [
        "### 第125筆肯定不對"
      ]
    },
    {
      "cell_type": "markdown",
      "metadata": {
        "id": "evX4iezBOgo-",
        "colab_type": "text"
      },
      "source": [
        "#**所以filter設錯，基本上是毫無準度可言....Orz**"
      ]
    },
    {
      "cell_type": "markdown",
      "metadata": {
        "id": "-c_A6Urla6Es",
        "colab_type": "text"
      },
      "source": [
        "## 修正filter"
      ]
    },
    {
      "cell_type": "code",
      "metadata": {
        "id": "XYrMJkycYWbT",
        "colab_type": "code",
        "outputId": "62769857-559d-4df7-a7d2-1661d805c078",
        "colab": {
          "base_uri": "https://localhost:8080/",
          "height": 370
        }
      },
      "source": [
        "modelC2 = Sequential()\n",
        "\n",
        "#第1層CNN&池化器\n",
        "modelC2.add(Conv2D(filters=24, kernel_size=(5,5), padding='same', input_shape=(28,28,1), activation='relu'))\n",
        "modelC2.add(MaxPooling2D(pool_size=(3,3)))\n",
        "  \n",
        "#第2層CNN&池化器\n",
        "modelC2.add(Conv2D(filters=32, kernel_size=(5,5), padding='same', input_shape=(28,28,1), activation='relu'))\n",
        "modelC2.add(MaxPooling2D(pool_size=(3,3)))\n",
        "\n",
        "#Dropout層\n",
        "modelC2.add(Dropout(1))\n",
        "\n",
        "#平坦層\n",
        "modelC2.add(Flatten())\n",
        "\n",
        "#全連接層\n",
        "modelC2.add(Dense(10, activation='softmax'))\n",
        "\n",
        "#顯示CNN架構\n",
        "modelC2.summary()"
      ],
      "execution_count": 10,
      "outputs": [
        {
          "output_type": "stream",
          "text": [
            "_________________________________________________________________\n",
            "Layer (type)                 Output Shape              Param #   \n",
            "=================================================================\n",
            "conv2d_3 (Conv2D)            (None, 28, 28, 24)        624       \n",
            "_________________________________________________________________\n",
            "max_pooling2d_3 (MaxPooling2 (None, 9, 9, 24)          0         \n",
            "_________________________________________________________________\n",
            "conv2d_4 (Conv2D)            (None, 9, 9, 32)          19232     \n",
            "_________________________________________________________________\n",
            "max_pooling2d_4 (MaxPooling2 (None, 3, 3, 32)          0         \n",
            "_________________________________________________________________\n",
            "dropout_2 (Dropout)          (None, 3, 3, 32)          0         \n",
            "_________________________________________________________________\n",
            "flatten_2 (Flatten)          (None, 288)               0         \n",
            "_________________________________________________________________\n",
            "dense_2 (Dense)              (None, 10)                2890      \n",
            "=================================================================\n",
            "Total params: 22,746\n",
            "Trainable params: 22,746\n",
            "Non-trainable params: 0\n",
            "_________________________________________________________________\n"
          ],
          "name": "stdout"
        }
      ]
    },
    {
      "cell_type": "code",
      "metadata": {
        "id": "Wykk-0nPYuDF",
        "colab_type": "code",
        "outputId": "86814094-4c53-4302-ab5f-ddcba11805fc",
        "colab": {
          "base_uri": "https://localhost:8080/",
          "height": 756
        }
      },
      "source": [
        "modelC2.compile(loss='categorical_crossentropy', optimizer=Adamax(lr=0.01), metrics=['accuracy'])\n",
        "train_history_C2 = modelC2.fit(x=X_train_C_norm, y=y_TOH, validation_split=0.2, epochs=20, batch_size=100, verbose=2)\n",
        "score_C2 = modelC2.evaluate(X_train_C, y_TOH)\n",
        "print()\n",
        "print(\"\\t 準確度 = {:2.1f}%\".format(score_C2[1]*100.0))"
      ],
      "execution_count": 11,
      "outputs": [
        {
          "output_type": "stream",
          "text": [
            "Train on 48000 samples, validate on 12000 samples\n",
            "Epoch 1/20\n",
            " - 2s - loss: 0.1723 - acc: 0.9465 - val_loss: 0.0867 - val_acc: 0.9748\n",
            "Epoch 2/20\n",
            " - 2s - loss: 0.0523 - acc: 0.9833 - val_loss: 0.0617 - val_acc: 0.9817\n",
            "Epoch 3/20\n",
            " - 2s - loss: 0.0385 - acc: 0.9878 - val_loss: 0.0526 - val_acc: 0.9849\n",
            "Epoch 4/20\n",
            " - 2s - loss: 0.0300 - acc: 0.9904 - val_loss: 0.0524 - val_acc: 0.9847\n",
            "Epoch 5/20\n",
            " - 2s - loss: 0.0246 - acc: 0.9917 - val_loss: 0.0401 - val_acc: 0.9880\n",
            "Epoch 6/20\n",
            " - 2s - loss: 0.0198 - acc: 0.9936 - val_loss: 0.0363 - val_acc: 0.9895\n",
            "Epoch 7/20\n",
            " - 2s - loss: 0.0169 - acc: 0.9945 - val_loss: 0.0346 - val_acc: 0.9902\n",
            "Epoch 8/20\n",
            " - 2s - loss: 0.0121 - acc: 0.9962 - val_loss: 0.0359 - val_acc: 0.9913\n",
            "Epoch 9/20\n",
            " - 2s - loss: 0.0094 - acc: 0.9969 - val_loss: 0.0488 - val_acc: 0.9882\n",
            "Epoch 10/20\n",
            " - 2s - loss: 0.0085 - acc: 0.9970 - val_loss: 0.0414 - val_acc: 0.9899\n",
            "Epoch 11/20\n",
            " - 2s - loss: 0.0065 - acc: 0.9979 - val_loss: 0.0386 - val_acc: 0.9908\n",
            "Epoch 12/20\n",
            " - 2s - loss: 0.0054 - acc: 0.9981 - val_loss: 0.0479 - val_acc: 0.9888\n",
            "Epoch 13/20\n",
            " - 2s - loss: 0.0046 - acc: 0.9985 - val_loss: 0.0523 - val_acc: 0.9883\n",
            "Epoch 14/20\n",
            " - 2s - loss: 0.0037 - acc: 0.9988 - val_loss: 0.0470 - val_acc: 0.9903\n",
            "Epoch 15/20\n",
            " - 2s - loss: 0.0033 - acc: 0.9987 - val_loss: 0.0467 - val_acc: 0.9899\n",
            "Epoch 16/20\n",
            " - 2s - loss: 0.0021 - acc: 0.9995 - val_loss: 0.0478 - val_acc: 0.9896\n",
            "Epoch 17/20\n",
            " - 2s - loss: 0.0018 - acc: 0.9995 - val_loss: 0.0452 - val_acc: 0.9899\n",
            "Epoch 18/20\n",
            " - 2s - loss: 0.0014 - acc: 0.9997 - val_loss: 0.0482 - val_acc: 0.9913\n",
            "Epoch 19/20\n",
            " - 2s - loss: 0.0010 - acc: 0.9998 - val_loss: 0.0523 - val_acc: 0.9898\n",
            "Epoch 20/20\n",
            " - 2s - loss: 0.0018 - acc: 0.9994 - val_loss: 0.0474 - val_acc: 0.9908\n",
            "60000/60000 [==============================] - 3s 42us/step\n",
            "\n",
            "\t 準確度 = 99.7%\n"
          ],
          "name": "stdout"
        }
      ]
    },
    {
      "cell_type": "code",
      "metadata": {
        "id": "PvhLytRubWiA",
        "colab_type": "code",
        "outputId": "6adbc838-8324-46ae-e877-61a2cbb8fdcd",
        "colab": {
          "base_uri": "https://localhost:8080/",
          "height": 50
        }
      },
      "source": [
        "print(\"\\t[Info] 從第120筆開始，顯示10筆預測結果:\")  \n",
        "X = X_Test4_C_norm[120:130]\n",
        "prediction = modelC2.predict_classes(X)\n",
        "print(prediction)"
      ],
      "execution_count": 12,
      "outputs": [
        {
          "output_type": "stream",
          "text": [
            "\t[Info] 從第120筆開始，顯示10筆預測結果:\n",
            "[5 4 7 6 7 9 0 5 8 5]\n"
          ],
          "name": "stdout"
        }
      ]
    },
    {
      "cell_type": "code",
      "metadata": {
        "id": "_HgVQpTmUbV6",
        "colab_type": "code",
        "outputId": "bdd362d6-7f1c-43f1-aeee-b608b6d603ca",
        "colab": {
          "base_uri": "https://localhost:8080/",
          "height": 269
        }
      },
      "source": [
        "plt.imshow(X_Test[122])\n",
        "plt.show()"
      ],
      "execution_count": 13,
      "outputs": [
        {
          "output_type": "display_data",
          "data": {
            "image/png": "[encoded data removed]",
            "text/plain": [
              "<Figure size 432x288 with 1 Axes>"
            ]
          },
          "metadata": {
            "tags": []
          }
        }
      ]
    },
    {
      "cell_type": "code",
      "metadata": {
        "id": "xpO6Ye58Ufyt",
        "colab_type": "code",
        "outputId": "329ed61f-a78d-4e15-f898-770d8615396c",
        "colab": {
          "base_uri": "https://localhost:8080/",
          "height": 269
        }
      },
      "source": [
        "plt.imshow(X_Test[125])\n",
        "plt.show()"
      ],
      "execution_count": 14,
      "outputs": [
        {
          "output_type": "display_data",
          "data": {
            "image/png": "[encoded data removed]",
            "text/plain": [
              "<Figure size 432x288 with 1 Axes>"
            ]
          },
          "metadata": {
            "tags": []
          }
        }
      ]
    }
  ]
}