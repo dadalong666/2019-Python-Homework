{
 "cells": [
  {
   "cell_type": "code",
   "execution_count": 1,
   "metadata": {},
   "outputs": [
    {
     "name": "stdout",
     "output_type": "stream",
     "text": [
      "env: KERAS_BACKEND=tensorflow\n"
     ]
    },
    {
     "name": "stderr",
     "output_type": "stream",
     "text": [
      "Using TensorFlow backend.\n"
     ]
    }
   ],
   "source": [
    "%env KERAS_BACKEND=tensorflow\n",
    "import numpy as np\n",
    "import matplotlib.pyplot as plt\n",
    "from keras.datasets import imdb"
   ]
  },
  {
   "cell_type": "code",
   "execution_count": 2,
   "metadata": {},
   "outputs": [],
   "source": [
    "(x_train_c, y_train_c), (x_test_c, y_test) = imdb.load_data(num_words=10000)"
   ]
  },
  {
   "cell_type": "code",
   "execution_count": 3,
   "metadata": {},
   "outputs": [
    {
     "name": "stdout",
     "output_type": "stream",
     "text": [
      "訓練總筆數 25000\n",
      "測試總筆數 25000\n"
     ]
    }
   ],
   "source": [
    "print('訓練總筆數',len(x_train_c))\n",
    "print('測試總筆數',len(x_test_c))"
   ]
  },
  {
   "cell_type": "code",
   "execution_count": 21,
   "metadata": {},
   "outputs": [],
   "source": [
    "from keras.preprocessing import sequence"
   ]
  },
  {
   "cell_type": "code",
   "execution_count": 22,
   "metadata": {},
   "outputs": [],
   "source": [
    "x_train_sps = sequence.pad_sequences(x_train_c, maxlen=150)\n",
    "x_test_sps = sequence.pad_sequences(x_test_c, maxlen=150)"
   ]
  },
  {
   "cell_type": "code",
   "execution_count": 23,
   "metadata": {},
   "outputs": [
    {
     "data": {
      "text/plain": [
       "(25000, 150)"
      ]
     },
     "execution_count": 23,
     "metadata": {},
     "output_type": "execute_result"
    }
   ],
   "source": [
    "x_train_sps.shape"
   ]
  },
  {
   "cell_type": "code",
   "execution_count": 24,
   "metadata": {},
   "outputs": [],
   "source": [
    "N = 3 #老師版～壓到3維\n",
    "K = 4 #老師版～LSTM有4個神經元"
   ]
  },
  {
   "cell_type": "code",
   "execution_count": 25,
   "metadata": {},
   "outputs": [],
   "source": [
    "from keras.models import Sequential\n",
    "from keras.layers import Dense, Embedding, LSTM"
   ]
  },
  {
   "cell_type": "code",
   "execution_count": 26,
   "metadata": {},
   "outputs": [],
   "source": [
    "model = Sequential()\n",
    "model.add(Embedding(10000,N))\n",
    "model.add(LSTM(K))\n",
    "model.add(Dense(1, activation='sigmoid'))"
   ]
  },
  {
   "cell_type": "code",
   "execution_count": 27,
   "metadata": {},
   "outputs": [],
   "source": [
    "model.compile(loss='binary_crossentropy',\n",
    "             optimizer='adam',\n",
    "             metrics=['accuracy'])"
   ]
  },
  {
   "cell_type": "code",
   "execution_count": 28,
   "metadata": {},
   "outputs": [
    {
     "name": "stdout",
     "output_type": "stream",
     "text": [
      "_________________________________________________________________\n",
      "Layer (type)                 Output Shape              Param #   \n",
      "=================================================================\n",
      "embedding_6 (Embedding)      (None, None, 3)           30000     \n",
      "_________________________________________________________________\n",
      "lstm_6 (LSTM)                (None, 4)                 128       \n",
      "_________________________________________________________________\n",
      "dense_6 (Dense)              (None, 1)                 5         \n",
      "=================================================================\n",
      "Total params: 30,133\n",
      "Trainable params: 30,133\n",
      "Non-trainable params: 0\n",
      "_________________________________________________________________\n"
     ]
    }
   ],
   "source": [
    "model.summary()"
   ]
  },
  {
   "cell_type": "code",
   "execution_count": 29,
   "metadata": {},
   "outputs": [
    {
     "name": "stdout",
     "output_type": "stream",
     "text": [
      "Train on 25000 samples, validate on 25000 samples\n",
      "Epoch 1/5\n",
      "25000/25000 [==============================] - 100s 4ms/step - loss: 0.4952 - acc: 0.7625 - val_loss: 0.3607 - val_acc: 0.8532\n",
      "Epoch 2/5\n",
      "25000/25000 [==============================] - 101s 4ms/step - loss: 0.2866 - acc: 0.8921 - val_loss: 0.4056 - val_acc: 0.8205\n",
      "Epoch 3/5\n",
      "25000/25000 [==============================] - 98s 4ms/step - loss: 0.2168 - acc: 0.9219 - val_loss: 0.3458 - val_acc: 0.8619\n",
      "Epoch 4/5\n",
      "25000/25000 [==============================] - 99s 4ms/step - loss: 0.1791 - acc: 0.9390 - val_loss: 0.3574 - val_acc: 0.8587\n",
      "Epoch 5/5\n",
      "25000/25000 [==============================] - 101s 4ms/step - loss: 0.1518 - acc: 0.9498 - val_loss: 0.4015 - val_acc: 0.8489\n"
     ]
    }
   ],
   "source": [
    "model_fit_his = model.fit(x_train_sps,y_train_c,\n",
    "                          batch_size=32,\n",
    "                          epochs=5,\n",
    "                          validation_data = (x_test_sps, y_test))"
   ]
  },
  {
   "cell_type": "markdown",
   "metadata": {},
   "source": [
    "### 準確率約95%"
   ]
  },
  {
   "cell_type": "code",
   "execution_count": 13,
   "metadata": {},
   "outputs": [],
   "source": [
    "N1 = 24 #文字要壓到N1維\n",
    "K1 = 4 #LSTM有K1個神經元\n",
    "\n",
    "model_c1 = Sequential()\n",
    "\n",
    "model_c1.add(Embedding(10000,N1))\n",
    "model_c1.add(LSTM(K1))\n",
    "\n",
    "model_c1.add(Dense(1, activation='sigmoid'))\n",
    "\n",
    "model_c1.compile(loss='binary_crossentropy',\n",
    "                 optimizer='adam',\n",
    "                 metrics=['accuracy'])"
   ]
  },
  {
   "cell_type": "code",
   "execution_count": 14,
   "metadata": {},
   "outputs": [
    {
     "name": "stdout",
     "output_type": "stream",
     "text": [
      "_________________________________________________________________\n",
      "Layer (type)                 Output Shape              Param #   \n",
      "=================================================================\n",
      "embedding_2 (Embedding)      (None, None, 24)          240000    \n",
      "_________________________________________________________________\n",
      "lstm_2 (LSTM)                (None, 4)                 464       \n",
      "_________________________________________________________________\n",
      "dense_2 (Dense)              (None, 1)                 5         \n",
      "=================================================================\n",
      "Total params: 240,469\n",
      "Trainable params: 240,469\n",
      "Non-trainable params: 0\n",
      "_________________________________________________________________\n"
     ]
    }
   ],
   "source": [
    "model_c1.summary()"
   ]
  },
  {
   "cell_type": "code",
   "execution_count": 15,
   "metadata": {},
   "outputs": [
    {
     "name": "stdout",
     "output_type": "stream",
     "text": [
      "Train on 25000 samples, validate on 25000 samples\n",
      "Epoch 1/5\n",
      "25000/25000 [==============================] - 104s 4ms/step - loss: 0.5042 - acc: 0.7589 - val_loss: 0.4091 - val_acc: 0.8268\n",
      "Epoch 2/5\n",
      "25000/25000 [==============================] - 101s 4ms/step - loss: 0.3323 - acc: 0.8688 - val_loss: 0.3831 - val_acc: 0.8384\n",
      "Epoch 3/5\n",
      "25000/25000 [==============================] - 102s 4ms/step - loss: 0.2500 - acc: 0.9084 - val_loss: 0.3596 - val_acc: 0.8517\n",
      "Epoch 4/5\n",
      "25000/25000 [==============================] - 102s 4ms/step - loss: 0.1890 - acc: 0.9346 - val_loss: 0.3756 - val_acc: 0.8482\n",
      "Epoch 5/5\n",
      "25000/25000 [==============================] - 103s 4ms/step - loss: 0.1469 - acc: 0.9510 - val_loss: 0.4144 - val_acc: 0.8509\n"
     ]
    }
   ],
   "source": [
    "model_history_c1 = model_c1.fit(x_train_sps,y_train_c,\n",
    "                                batch_size=32,\n",
    "                                epochs=5,\n",
    "                                validation_data = (x_test_sps, y_test))"
   ]
  },
  {
   "cell_type": "markdown",
   "metadata": {},
   "source": [
    "### 準確率約95.1%"
   ]
  },
  {
   "cell_type": "code",
   "execution_count": 16,
   "metadata": {},
   "outputs": [],
   "source": [
    "from keras.optimizers import SGD, Adam"
   ]
  },
  {
   "cell_type": "markdown",
   "metadata": {},
   "source": [
    "## 嘗試將Adam加入學習率設定和改用SGD訓練"
   ]
  },
  {
   "cell_type": "code",
   "execution_count": 17,
   "metadata": {},
   "outputs": [
    {
     "name": "stdout",
     "output_type": "stream",
     "text": [
      "Train on 25000 samples, validate on 25000 samples\n",
      "Epoch 1/5\n",
      "25000/25000 [==============================] - 104s 4ms/step - loss: 0.4668 - acc: 0.7796 - val_loss: 0.3557 - val_acc: 0.8485\n",
      "Epoch 2/5\n",
      "25000/25000 [==============================] - 100s 4ms/step - loss: 0.2627 - acc: 0.8968 - val_loss: 0.3319 - val_acc: 0.8632\n",
      "Epoch 3/5\n",
      "25000/25000 [==============================] - 102s 4ms/step - loss: 0.1771 - acc: 0.9340 - val_loss: 0.3704 - val_acc: 0.8584\n",
      "Epoch 4/5\n",
      "25000/25000 [==============================] - 103s 4ms/step - loss: 0.1292 - acc: 0.9542 - val_loss: 0.4087 - val_acc: 0.8555\n",
      "Epoch 5/5\n",
      "25000/25000 [==============================] - 103s 4ms/step - loss: 0.0948 - acc: 0.9680 - val_loss: 0.4815 - val_acc: 0.8488\n"
     ]
    }
   ],
   "source": [
    "#N1 = 24 #文字要壓到N1維\n",
    "#K1 = 4 #LSTM有K1個神經元\n",
    "\n",
    "model_c2 = Sequential()\n",
    "\n",
    "model_c2.add(Embedding(10000,N1))\n",
    "model_c2.add(LSTM(K1))\n",
    "\n",
    "model_c2.add(Dense(1, activation='sigmoid'))\n",
    "\n",
    "model_c2.compile(loss='binary_crossentropy',\n",
    "                 optimizer=Adam(lr=0.01),\n",
    "                 metrics=['accuracy'])\n",
    "\n",
    "model_history_c2 = model_c2.fit(x_train_sps,y_train_c,\n",
    "                                batch_size=32,\n",
    "                                epochs=5,\n",
    "                                validation_data = (x_test_sps, y_test))"
   ]
  },
  {
   "cell_type": "markdown",
   "metadata": {},
   "source": [
    "### 設定學習率，準確率只能稍微再提升一點點，準確率約96.8%"
   ]
  },
  {
   "cell_type": "code",
   "execution_count": 18,
   "metadata": {},
   "outputs": [
    {
     "name": "stdout",
     "output_type": "stream",
     "text": [
      "Train on 25000 samples, validate on 25000 samples\n",
      "Epoch 1/5\n",
      "25000/25000 [==============================] - 103s 4ms/step - loss: 0.6935 - acc: 0.4858 - val_loss: 0.6934 - val_acc: 0.4895\n",
      "Epoch 2/5\n",
      "25000/25000 [==============================] - 103s 4ms/step - loss: 0.6933 - acc: 0.4959 - val_loss: 0.6932 - val_acc: 0.5038\n",
      "Epoch 3/5\n",
      "25000/25000 [==============================] - 105s 4ms/step - loss: 0.6930 - acc: 0.5069 - val_loss: 0.6929 - val_acc: 0.5088\n",
      "Epoch 4/5\n",
      "25000/25000 [==============================] - 105s 4ms/step - loss: 0.6927 - acc: 0.5153 - val_loss: 0.6927 - val_acc: 0.5258\n",
      "Epoch 5/5\n",
      "25000/25000 [==============================] - 106s 4ms/step - loss: 0.6925 - acc: 0.5288 - val_loss: 0.6925 - val_acc: 0.5192\n"
     ]
    }
   ],
   "source": [
    "#N1 = 24 #文字要壓到N1維\n",
    "#K1 = 4 #LSTM有K1個神經元\n",
    "\n",
    "model_c3 = Sequential()\n",
    "\n",
    "model_c3.add(Embedding(10000,N1))\n",
    "model_c3.add(LSTM(K1))\n",
    "\n",
    "model_c3.add(Dense(1, activation='sigmoid'))\n",
    "\n",
    "model_c3.compile(loss='binary_crossentropy',\n",
    "                 optimizer='SGD',\n",
    "                 metrics=['accuracy'])\n",
    "\n",
    "model_history_c3 = model_c3.fit(x_train_sps,y_train_c,\n",
    "                                batch_size=32,\n",
    "                                epochs=5,\n",
    "                                validation_data = (x_test_sps, y_test))"
   ]
  },
  {
   "cell_type": "markdown",
   "metadata": {},
   "source": [
    "### 超弱的SGD，同樣的epoch次數下，根本沒準確度可言...52.9%"
   ]
  },
  {
   "cell_type": "code",
   "execution_count": null,
   "metadata": {},
   "outputs": [],
   "source": []
  }
 ],
 "metadata": {
  "kernelspec": {
   "display_name": "Python 3",
   "language": "python",
   "name": "python3"
  },
  "language_info": {
   "codemirror_mode": {
    "name": "ipython",
    "version": 3
   },
   "file_extension": ".py",
   "mimetype": "text/x-python",
   "name": "python",
   "nbconvert_exporter": "python",
   "pygments_lexer": "ipython3",
   "version": "3.7.2"
  }
 },
 "nbformat": 4,
 "nbformat_minor": 2
}
