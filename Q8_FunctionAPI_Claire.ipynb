{
  "nbformat": 4,
  "nbformat_minor": 0,
  "metadata": {
    "colab": {
      "name": "Q8-FunctionAPI-Claire.ipynb",
      "version": "0.3.2",
      "provenance": [],
      "include_colab_link": true
    },
    "language_info": {
      "codemirror_mode": {
        "name": "ipython",
        "version": 3
      },
      "file_extension": ".py",
      "mimetype": "text/x-python",
      "name": "python",
      "nbconvert_exporter": "python",
      "pygments_lexer": "ipython3",
      "version": "3.7.2"
    },
    "kernelspec": {
      "name": "python3",
      "display_name": "Python 3"
    },
    "accelerator": "GPU"
  },
  "cells": [
    {
      "cell_type": "markdown",
      "metadata": {
        "id": "view-in-github",
        "colab_type": "text"
      },
      "source": [
        "<a href=\"https://colab.research.google.com/github/dadalong666/2019-Python-Homework/blob/master/Q8_FunctionAPI_Claire.ipynb\" target=\"_parent\"><img src=\"https://colab.research.google.com/assets/colab-badge.svg\" alt=\"Open In Colab\"/></a>"
      ]
    },
    {
      "cell_type": "code",
      "metadata": {
        "id": "401tBSMuuSi0",
        "colab_type": "code",
        "colab": {}
      },
      "source": [
        "from keras.datasets import mnist\n",
        "from keras.models import Sequential, Model\n",
        "from keras.layers import Dense, Activation, concatenate, add, Input\n",
        "from keras.optimizers import SGD, Adam\n",
        "from matplotlib import pyplot as plt"
      ],
      "execution_count": 0,
      "outputs": []
    },
    {
      "cell_type": "code",
      "metadata": {
        "scrolled": true,
        "id": "eHorbTxKuSi8",
        "colab_type": "code",
        "colab": {
          "base_uri": "https://localhost:8080/",
          "height": 50
        },
        "outputId": "2342b0a3-f630-4da8-847d-6606e1a2ee6b"
      },
      "source": [
        "(train_x, train_y), (test_x, test_y) = mnist.load_data()"
      ],
      "execution_count": 3,
      "outputs": [
        {
          "output_type": "stream",
          "text": [
            "Downloading data from https://s3.amazonaws.com/img-datasets/mnist.npz\n",
            "11493376/11490434 [==============================] - 1s 0us/step\n"
          ],
          "name": "stdout"
        }
      ]
    },
    {
      "cell_type": "code",
      "metadata": {
        "id": "XoRIvnqcuSjA",
        "colab_type": "code",
        "colab": {
          "base_uri": "https://localhost:8080/",
          "height": 34
        },
        "outputId": "0a06114f-a5cd-488c-bcf4-81e577d57514"
      },
      "source": [
        "x_train = train_x.reshape(60000, 784)\n",
        "x_test = test_x.reshape(10000, 784)\n",
        "x_train -= x_train.min()\n",
        "x_train = x_train/x_train.max()\n",
        "x_train.min(), x_train.max()"
      ],
      "execution_count": 4,
      "outputs": [
        {
          "output_type": "execute_result",
          "data": {
            "text/plain": [
              "(0.0, 1.0)"
            ]
          },
          "metadata": {
            "tags": []
          },
          "execution_count": 4
        }
      ]
    },
    {
      "cell_type": "code",
      "metadata": {
        "id": "NAwLT1SWuSjE",
        "colab_type": "code",
        "colab": {}
      },
      "source": [
        "from keras.utils import np_utils"
      ],
      "execution_count": 0,
      "outputs": []
    },
    {
      "cell_type": "code",
      "metadata": {
        "id": "o-lh1_W9uSjH",
        "colab_type": "code",
        "colab": {}
      },
      "source": [
        "train_y = np_utils.to_categorical(train_y, 10)\n",
        "test_y = np_utils.to_categorical(test_y, 10)"
      ],
      "execution_count": 0,
      "outputs": []
    },
    {
      "cell_type": "markdown",
      "metadata": {
        "id": "EmaUQtkIuSjJ",
        "colab_type": "text"
      },
      "source": [
        "[link text](https://drive.google.com/open?id=1A6nkTzeGLGW_gqjk81ETzo2yb0mSbP_L)\n",
        "\n",
        "\n"
      ]
    },
    {
      "cell_type": "code",
      "metadata": {
        "id": "q7XIln0uuSjK",
        "colab_type": "code",
        "colab": {}
      },
      "source": [
        "x = Input(shape=(784,))"
      ],
      "execution_count": 0,
      "outputs": []
    },
    {
      "cell_type": "code",
      "metadata": {
        "id": "z3lW9XrRuSjQ",
        "colab_type": "code",
        "colab": {}
      },
      "source": [
        "#Hiden Layer 1\n",
        "f01 = Dense(500, activation='sigmoid')\n",
        "\n",
        "f11 = Dense(100, activation='sigmoid')\n",
        "f12 = Dense(100, activation='sigmoid')\n",
        "#f13 = Dense(100, activation='sigmoid')\n",
        "\n",
        "f21 = Dense(50, activation='sigmoid')\n",
        "\n",
        "f31 = Dense(50, activation='sigmoid')\n",
        "\n",
        "f4 = Dense(10, activation='softmax')"
      ],
      "execution_count": 0,
      "outputs": []
    },
    {
      "cell_type": "code",
      "metadata": {
        "id": "eX53LDQ8uSjU",
        "colab_type": "code",
        "colab": {
          "base_uri": "https://localhost:8080/",
          "height": 87
        },
        "outputId": "0c35ca35-484e-421b-bce1-d53e94b1461c"
      },
      "source": [
        "h01 = f01(x)\n",
        "\n",
        "h11 = f11(h01)\n",
        "h12 = f12(h01)\n",
        "#h13 = f13(h01)\n",
        "\n",
        "h21 = f21(concatenate([h11,h12]))\n",
        "h31 = f31(concatenate([h01,h21]))"
      ],
      "execution_count": 9,
      "outputs": [
        {
          "output_type": "stream",
          "text": [
            "WARNING:tensorflow:From /usr/local/lib/python3.6/dist-packages/tensorflow/python/framework/op_def_library.py:263: colocate_with (from tensorflow.python.framework.ops) is deprecated and will be removed in a future version.\n",
            "Instructions for updating:\n",
            "Colocations handled automatically by placer.\n"
          ],
          "name": "stdout"
        }
      ]
    },
    {
      "cell_type": "code",
      "metadata": {
        "id": "GbuAUJbJuSjY",
        "colab_type": "code",
        "colab": {}
      },
      "source": [
        "y = f4(h31)"
      ],
      "execution_count": 0,
      "outputs": []
    },
    {
      "cell_type": "code",
      "metadata": {
        "id": "cSjJIFC2uSja",
        "colab_type": "code",
        "colab": {
          "base_uri": "https://localhost:8080/",
          "height": 470
        },
        "outputId": "eb1496c6-2fda-4014-9330-ede01c2e08f2"
      },
      "source": [
        "model = Model(x,y)\n",
        "model.summary()"
      ],
      "execution_count": 11,
      "outputs": [
        {
          "output_type": "stream",
          "text": [
            "__________________________________________________________________________________________________\n",
            "Layer (type)                    Output Shape         Param #     Connected to                     \n",
            "==================================================================================================\n",
            "input_1 (InputLayer)            (None, 784)          0                                            \n",
            "__________________________________________________________________________________________________\n",
            "dense_1 (Dense)                 (None, 500)          392500      input_1[0][0]                    \n",
            "__________________________________________________________________________________________________\n",
            "dense_2 (Dense)                 (None, 100)          50100       dense_1[0][0]                    \n",
            "__________________________________________________________________________________________________\n",
            "dense_3 (Dense)                 (None, 100)          50100       dense_1[0][0]                    \n",
            "__________________________________________________________________________________________________\n",
            "concatenate_1 (Concatenate)     (None, 200)          0           dense_2[0][0]                    \n",
            "                                                                 dense_3[0][0]                    \n",
            "__________________________________________________________________________________________________\n",
            "dense_4 (Dense)                 (None, 50)           10050       concatenate_1[0][0]              \n",
            "__________________________________________________________________________________________________\n",
            "concatenate_2 (Concatenate)     (None, 550)          0           dense_1[0][0]                    \n",
            "                                                                 dense_4[0][0]                    \n",
            "__________________________________________________________________________________________________\n",
            "dense_5 (Dense)                 (None, 50)           27550       concatenate_2[0][0]              \n",
            "__________________________________________________________________________________________________\n",
            "dense_6 (Dense)                 (None, 10)           510         dense_5[0][0]                    \n",
            "==================================================================================================\n",
            "Total params: 530,810\n",
            "Trainable params: 530,810\n",
            "Non-trainable params: 0\n",
            "__________________________________________________________________________________________________\n"
          ],
          "name": "stdout"
        }
      ]
    },
    {
      "cell_type": "code",
      "metadata": {
        "id": "M9rRclWfuSje",
        "colab_type": "code",
        "colab": {
          "base_uri": "https://localhost:8080/",
          "height": 474
        },
        "outputId": "d21e925d-3eb9-4ef8-bc1f-f40486ec53bc"
      },
      "source": [
        "model.compile(loss='categorical_crossentropy',optimizer=Adam(lr=0.02),metrics=['accuracy'])\n",
        "model_fit = model.fit(x_train, train_y, batch_size=200, epochs=10, verbose=2)\n",
        "score = model.evaluate(x_train, train_y, batch_size=10000)\n",
        "print(\"Loss: %f\" %score[0])\n",
        "print(\"準確率: %f\" %(score[1]*100))"
      ],
      "execution_count": 12,
      "outputs": [
        {
          "output_type": "stream",
          "text": [
            "WARNING:tensorflow:From /usr/local/lib/python3.6/dist-packages/tensorflow/python/ops/math_ops.py:3066: to_int32 (from tensorflow.python.ops.math_ops) is deprecated and will be removed in a future version.\n",
            "Instructions for updating:\n",
            "Use tf.cast instead.\n",
            "Epoch 1/10\n",
            " - 4s - loss: 1.2178 - acc: 0.5144\n",
            "Epoch 2/10\n",
            " - 1s - loss: 0.4442 - acc: 0.8501\n",
            "Epoch 3/10\n",
            " - 1s - loss: 0.2795 - acc: 0.9353\n",
            "Epoch 4/10\n",
            " - 1s - loss: 0.2312 - acc: 0.9473\n",
            "Epoch 5/10\n",
            " - 1s - loss: 0.2009 - acc: 0.9536\n",
            "Epoch 6/10\n",
            " - 1s - loss: 0.1994 - acc: 0.9542\n",
            "Epoch 7/10\n",
            " - 1s - loss: 0.1851 - acc: 0.9581\n",
            "Epoch 8/10\n",
            " - 1s - loss: 0.1733 - acc: 0.9605\n",
            "Epoch 9/10\n",
            " - 1s - loss: 0.1677 - acc: 0.9622\n",
            "Epoch 10/10\n",
            " - 1s - loss: 0.1716 - acc: 0.9609\n",
            "60000/60000 [==============================] - 0s 6us/step\n",
            "Loss: 0.182541\n",
            "準確率: 95.993333\n"
          ],
          "name": "stdout"
        }
      ]
    },
    {
      "cell_type": "code",
      "metadata": {
        "id": "XkKusvYUuSji",
        "colab_type": "code",
        "colab": {
          "base_uri": "https://localhost:8080/",
          "height": 295
        },
        "outputId": "d87e5f01-e6ea-4cd5-9f55-3203c6faec51"
      },
      "source": [
        "plt.plot(model_fit.history[\"acc\"])\n",
        "\n",
        "plt.title(\"Training Accuracy\")\n",
        "plt.ylabel(\"Accuracy\")\n",
        "plt.xlabel(\"Epoch\")\n",
        "plt.legend([\"acc\"], loc=\"best\")\n",
        "plt.show()"
      ],
      "execution_count": 13,
      "outputs": [
        {
          "output_type": "display_data",
          "data": {
            "image/png": "[encoded data removed]",
            "text/plain": [
              "<Figure size 432x288 with 1 Axes>"
            ]
          },
          "metadata": {
            "tags": []
          }
        }
      ]
    },
    {
      "cell_type": "code",
      "metadata": {
        "id": "H3Acsn7xuSjm",
        "colab_type": "code",
        "colab": {
          "base_uri": "https://localhost:8080/",
          "height": 295
        },
        "outputId": "2633e244-29de-406b-99c6-787313dad746"
      },
      "source": [
        "plt.plot(model_fit.history[\"loss\"])\n",
        "\n",
        "plt.title(\"Training Loss\")\n",
        "plt.ylabel(\"Loss\")\n",
        "plt.xlabel(\"Epoch\")\n",
        "plt.legend([\"loss\"], loc=\"best\")\n",
        "plt.show()"
      ],
      "execution_count": 14,
      "outputs": [
        {
          "output_type": "display_data",
          "data": {
            "image/png": "[encoded data removed]",
            "text/plain": [
              "<Figure size 432x288 with 1 Axes>"
            ]
          },
          "metadata": {
            "tags": []
          }
        }
      ]
    },
    {
      "cell_type": "code",
      "metadata": {
        "id": "yyx9hEIfuSjq",
        "colab_type": "code",
        "colab": {}
      },
      "source": [
        ""
      ],
      "execution_count": 0,
      "outputs": []
    }
  ]
}