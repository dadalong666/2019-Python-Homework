{
  "nbformat": 4,
  "nbformat_minor": 0,
  "metadata": {
    "colab": {
      "name": "Q10_Claire.ipynb",
      "version": "0.3.2",
      "provenance": [],
      "include_colab_link": true
    },
    "language_info": {
      "codemirror_mode": {
        "name": "ipython",
        "version": 3
      },
      "file_extension": ".py",
      "mimetype": "text/x-python",
      "name": "python",
      "nbconvert_exporter": "python",
      "pygments_lexer": "ipython3",
      "version": "3.7.2"
    },
    "kernelspec": {
      "name": "python3",
      "display_name": "Python 3"
    },
    "accelerator": "GPU"
  },
  "cells": [
    {
      "cell_type": "markdown",
      "metadata": {
        "id": "view-in-github",
        "colab_type": "text"
      },
      "source": [
        "<a href=\"https://colab.research.google.com/github/dadalong666/2019-Python-Homework/blob/master/Q10_Claire.ipynb\" target=\"_parent\"><img src=\"https://colab.research.google.com/assets/colab-badge.svg\" alt=\"Open In Colab\"/></a>"
      ]
    },
    {
      "cell_type": "code",
      "metadata": {
        "id": "BaTQb1WlFQUi",
        "colab_type": "code",
        "colab": {
          "base_uri": "https://localhost:8080/",
          "height": 34
        },
        "outputId": "60b1527a-0d3a-4803-bf25-69a6ecec91b1"
      },
      "source": [
        "%env KERAS_BACKEND=tensorflow\n",
        "import numpy as np\n",
        "import matplotlib.pyplot as plt\n",
        "from keras.datasets import imdb"
      ],
      "execution_count": 3,
      "outputs": [
        {
          "output_type": "stream",
          "text": [
            "env: KERAS_BACKEND=tensorflow\n"
          ],
          "name": "stdout"
        }
      ]
    },
    {
      "cell_type": "code",
      "metadata": {
        "id": "F0hEAFJtFQUo",
        "colab_type": "code",
        "colab": {
          "base_uri": "https://localhost:8080/",
          "height": 303
        },
        "outputId": "a8e55d3f-59c4-47b0-ceb0-29edf8b84d9c"
      },
      "source": [
        "(x_train_c, y_train_c), (x_test_c, y_test) = imdb.load_data(num_words=10000)"
      ],
      "execution_count": 4,
      "outputs": [
        {
          "output_type": "error",
          "ename": "ValueError",
          "evalue": "ignored",
          "traceback": [
            "\u001b[0;31m---------------------------------------------------------------------------\u001b[0m",
            "\u001b[0;31mValueError\u001b[0m                                Traceback (most recent call last)",
            "\u001b[0;32m<ipython-input-4-f79bdbe60638>\u001b[0m in \u001b[0;36m<module>\u001b[0;34m()\u001b[0m\n\u001b[0;32m----> 1\u001b[0;31m \u001b[0;34m(\u001b[0m\u001b[0mx_train_c\u001b[0m\u001b[0;34m,\u001b[0m \u001b[0my_train_c\u001b[0m\u001b[0;34m)\u001b[0m\u001b[0;34m,\u001b[0m \u001b[0;34m(\u001b[0m\u001b[0mx_test_c\u001b[0m\u001b[0;34m,\u001b[0m \u001b[0my_test\u001b[0m\u001b[0;34m)\u001b[0m \u001b[0;34m=\u001b[0m \u001b[0mimdb\u001b[0m\u001b[0;34m.\u001b[0m\u001b[0mload_data\u001b[0m\u001b[0;34m(\u001b[0m\u001b[0mnum_words\u001b[0m\u001b[0;34m=\u001b[0m\u001b[0;36m10000\u001b[0m\u001b[0;34m)\u001b[0m\u001b[0;34m\u001b[0m\u001b[0;34m\u001b[0m\u001b[0m\n\u001b[0m",
            "\u001b[0;32m/usr/local/lib/python3.6/dist-packages/keras/datasets/imdb.py\u001b[0m in \u001b[0;36mload_data\u001b[0;34m(path, num_words, skip_top, maxlen, seed, start_char, oov_char, index_from, **kwargs)\u001b[0m\n\u001b[1;32m     57\u001b[0m                     file_hash='599dadb1135973df5b59232a0e9a887c')\n\u001b[1;32m     58\u001b[0m     \u001b[0;32mwith\u001b[0m \u001b[0mnp\u001b[0m\u001b[0;34m.\u001b[0m\u001b[0mload\u001b[0m\u001b[0;34m(\u001b[0m\u001b[0mpath\u001b[0m\u001b[0;34m)\u001b[0m \u001b[0;32mas\u001b[0m \u001b[0mf\u001b[0m\u001b[0;34m:\u001b[0m\u001b[0;34m\u001b[0m\u001b[0;34m\u001b[0m\u001b[0m\n\u001b[0;32m---> 59\u001b[0;31m         \u001b[0mx_train\u001b[0m\u001b[0;34m,\u001b[0m \u001b[0mlabels_train\u001b[0m \u001b[0;34m=\u001b[0m \u001b[0mf\u001b[0m\u001b[0;34m[\u001b[0m\u001b[0;34m'x_train'\u001b[0m\u001b[0;34m]\u001b[0m\u001b[0;34m,\u001b[0m \u001b[0mf\u001b[0m\u001b[0;34m[\u001b[0m\u001b[0;34m'y_train'\u001b[0m\u001b[0;34m]\u001b[0m\u001b[0;34m\u001b[0m\u001b[0;34m\u001b[0m\u001b[0m\n\u001b[0m\u001b[1;32m     60\u001b[0m         \u001b[0mx_test\u001b[0m\u001b[0;34m,\u001b[0m \u001b[0mlabels_test\u001b[0m \u001b[0;34m=\u001b[0m \u001b[0mf\u001b[0m\u001b[0;34m[\u001b[0m\u001b[0;34m'x_test'\u001b[0m\u001b[0;34m]\u001b[0m\u001b[0;34m,\u001b[0m \u001b[0mf\u001b[0m\u001b[0;34m[\u001b[0m\u001b[0;34m'y_test'\u001b[0m\u001b[0;34m]\u001b[0m\u001b[0;34m\u001b[0m\u001b[0;34m\u001b[0m\u001b[0m\n\u001b[1;32m     61\u001b[0m \u001b[0;34m\u001b[0m\u001b[0m\n",
            "\u001b[0;32m/usr/local/lib/python3.6/dist-packages/numpy/lib/npyio.py\u001b[0m in \u001b[0;36m__getitem__\u001b[0;34m(self, key)\u001b[0m\n\u001b[1;32m    260\u001b[0m                 return format.read_array(bytes,\n\u001b[1;32m    261\u001b[0m                                          \u001b[0mallow_pickle\u001b[0m\u001b[0;34m=\u001b[0m\u001b[0mself\u001b[0m\u001b[0;34m.\u001b[0m\u001b[0mallow_pickle\u001b[0m\u001b[0;34m,\u001b[0m\u001b[0;34m\u001b[0m\u001b[0;34m\u001b[0m\u001b[0m\n\u001b[0;32m--> 262\u001b[0;31m                                          pickle_kwargs=self.pickle_kwargs)\n\u001b[0m\u001b[1;32m    263\u001b[0m             \u001b[0;32melse\u001b[0m\u001b[0;34m:\u001b[0m\u001b[0;34m\u001b[0m\u001b[0;34m\u001b[0m\u001b[0m\n\u001b[1;32m    264\u001b[0m                 \u001b[0;32mreturn\u001b[0m \u001b[0mself\u001b[0m\u001b[0;34m.\u001b[0m\u001b[0mzip\u001b[0m\u001b[0;34m.\u001b[0m\u001b[0mread\u001b[0m\u001b[0;34m(\u001b[0m\u001b[0mkey\u001b[0m\u001b[0;34m)\u001b[0m\u001b[0;34m\u001b[0m\u001b[0;34m\u001b[0m\u001b[0m\n",
            "\u001b[0;32m/usr/local/lib/python3.6/dist-packages/numpy/lib/format.py\u001b[0m in \u001b[0;36mread_array\u001b[0;34m(fp, allow_pickle, pickle_kwargs)\u001b[0m\n\u001b[1;32m    690\u001b[0m         \u001b[0;31m# The array contained Python objects. We need to unpickle the data.\u001b[0m\u001b[0;34m\u001b[0m\u001b[0;34m\u001b[0m\u001b[0;34m\u001b[0m\u001b[0m\n\u001b[1;32m    691\u001b[0m         \u001b[0;32mif\u001b[0m \u001b[0;32mnot\u001b[0m \u001b[0mallow_pickle\u001b[0m\u001b[0;34m:\u001b[0m\u001b[0;34m\u001b[0m\u001b[0;34m\u001b[0m\u001b[0m\n\u001b[0;32m--> 692\u001b[0;31m             raise ValueError(\"Object arrays cannot be loaded when \"\n\u001b[0m\u001b[1;32m    693\u001b[0m                              \"allow_pickle=False\")\n\u001b[1;32m    694\u001b[0m         \u001b[0;32mif\u001b[0m \u001b[0mpickle_kwargs\u001b[0m \u001b[0;32mis\u001b[0m \u001b[0;32mNone\u001b[0m\u001b[0;34m:\u001b[0m\u001b[0;34m\u001b[0m\u001b[0;34m\u001b[0m\u001b[0m\n",
            "\u001b[0;31mValueError\u001b[0m: Object arrays cannot be loaded when allow_pickle=False"
          ]
        }
      ]
    },
    {
      "cell_type": "code",
      "metadata": {
        "id": "ieXBVjhiFQUr",
        "colab_type": "code",
        "colab": {}
      },
      "source": [
        "print('訓練總筆數',len(x_train_c))\n",
        "print('測試總筆數',len(x_test_c))"
      ],
      "execution_count": 0,
      "outputs": []
    },
    {
      "cell_type": "code",
      "metadata": {
        "id": "GmRYCSiwFQUv",
        "colab_type": "code",
        "colab": {}
      },
      "source": [
        "from keras.preprocessing import sequence"
      ],
      "execution_count": 0,
      "outputs": []
    },
    {
      "cell_type": "code",
      "metadata": {
        "id": "Ls6uYbMwFQUy",
        "colab_type": "code",
        "colab": {}
      },
      "source": [
        "x_train_sps = sequence.pad_sequences(x_train_c, maxlen=150)\n",
        "x_test_sps = sequence.pad_sequences(x_test_c, maxlen=150)"
      ],
      "execution_count": 0,
      "outputs": []
    },
    {
      "cell_type": "code",
      "metadata": {
        "id": "h665FMHXFQU0",
        "colab_type": "code",
        "colab": {}
      },
      "source": [
        "x_train_sps.shape"
      ],
      "execution_count": 0,
      "outputs": []
    },
    {
      "cell_type": "code",
      "metadata": {
        "id": "EpnlYaAaFQU4",
        "colab_type": "code",
        "colab": {}
      },
      "source": [
        "N = 3 #老師版～壓到3維\n",
        "K = 4 #老師版～LSTM有4個神經元"
      ],
      "execution_count": 0,
      "outputs": []
    },
    {
      "cell_type": "code",
      "metadata": {
        "id": "Q76JZMrjFQU7",
        "colab_type": "code",
        "colab": {}
      },
      "source": [
        "from keras.models import Sequential\n",
        "from keras.layers import Dense, Embedding, LSTM"
      ],
      "execution_count": 0,
      "outputs": []
    },
    {
      "cell_type": "code",
      "metadata": {
        "id": "SpjhBbJsFQU-",
        "colab_type": "code",
        "colab": {}
      },
      "source": [
        "model = Sequential()\n",
        "model.add(Embedding(10000,N))\n",
        "model.add(LSTM(K))\n",
        "model.add(Dense(1, activation='sigmoid'))"
      ],
      "execution_count": 0,
      "outputs": []
    },
    {
      "cell_type": "code",
      "metadata": {
        "id": "Kv0xDDNeFQVB",
        "colab_type": "code",
        "colab": {}
      },
      "source": [
        "model.compile(loss='binary_crossentropy',\n",
        "             optimizer='adam',\n",
        "             metrics=['accuracy'])"
      ],
      "execution_count": 0,
      "outputs": []
    },
    {
      "cell_type": "code",
      "metadata": {
        "id": "tSN5qlCNFQVE",
        "colab_type": "code",
        "colab": {}
      },
      "source": [
        "model.summary()"
      ],
      "execution_count": 0,
      "outputs": []
    },
    {
      "cell_type": "code",
      "metadata": {
        "id": "w51DXqPzFQVI",
        "colab_type": "code",
        "colab": {}
      },
      "source": [
        "model_fit_his = model.fit(x_train_sps,y_train_c,\n",
        "                          batch_size=32,\n",
        "                          epochs=5,\n",
        "                          validation_data = (x_test_sps, y_test))"
      ],
      "execution_count": 0,
      "outputs": []
    },
    {
      "cell_type": "markdown",
      "metadata": {
        "id": "btpwdUVbFQVL",
        "colab_type": "text"
      },
      "source": [
        "### 準確率約95%"
      ]
    },
    {
      "cell_type": "code",
      "metadata": {
        "id": "IeACQeiEFQVM",
        "colab_type": "code",
        "colab": {}
      },
      "source": [
        "N1 = 24 #文字要壓到N1維\n",
        "K1 = 4 #LSTM有K1個神經元\n",
        "\n",
        "model_c1 = Sequential()\n",
        "\n",
        "model_c1.add(Embedding(10000,N1))\n",
        "model_c1.add(LSTM(K1))\n",
        "\n",
        "model_c1.add(Dense(1, activation='sigmoid'))\n",
        "\n",
        "model_c1.compile(loss='binary_crossentropy',\n",
        "                 optimizer='adam',\n",
        "                 metrics=['accuracy'])"
      ],
      "execution_count": 0,
      "outputs": []
    },
    {
      "cell_type": "code",
      "metadata": {
        "id": "i-OuPTZwFQVP",
        "colab_type": "code",
        "colab": {}
      },
      "source": [
        "model_c1.summary()"
      ],
      "execution_count": 0,
      "outputs": []
    },
    {
      "cell_type": "code",
      "metadata": {
        "id": "AzS5BMPXFQVT",
        "colab_type": "code",
        "colab": {}
      },
      "source": [
        "model_history_c1 = model_c1.fit(x_train_sps,y_train_c,\n",
        "                                batch_size=32,\n",
        "                                epochs=5,\n",
        "                                validation_data = (x_test_sps, y_test))"
      ],
      "execution_count": 0,
      "outputs": []
    },
    {
      "cell_type": "markdown",
      "metadata": {
        "id": "Nt4z6qqiFQVY",
        "colab_type": "text"
      },
      "source": [
        "### 準確率約95.1%"
      ]
    },
    {
      "cell_type": "code",
      "metadata": {
        "id": "F5wNxB4aFQVZ",
        "colab_type": "code",
        "colab": {}
      },
      "source": [
        "from keras.optimizers import SGD, Adam"
      ],
      "execution_count": 0,
      "outputs": []
    },
    {
      "cell_type": "markdown",
      "metadata": {
        "id": "CYtqwM_FFQVb",
        "colab_type": "text"
      },
      "source": [
        "## 嘗試將Adam加入學習率設定和改用SGD訓練"
      ]
    },
    {
      "cell_type": "code",
      "metadata": {
        "id": "CaPweeWWFQVc",
        "colab_type": "code",
        "colab": {}
      },
      "source": [
        "#N1 = 24 #文字要壓到N1維\n",
        "#K1 = 4 #LSTM有K1個神經元\n",
        "\n",
        "model_c2 = Sequential()\n",
        "\n",
        "model_c2.add(Embedding(10000,N1))\n",
        "model_c2.add(LSTM(K1))\n",
        "\n",
        "model_c2.add(Dense(1, activation='sigmoid'))\n",
        "\n",
        "model_c2.compile(loss='binary_crossentropy',\n",
        "                 optimizer=Adam(lr=0.01),\n",
        "                 metrics=['accuracy'])\n",
        "\n",
        "model_history_c2 = model_c2.fit(x_train_sps,y_train_c,\n",
        "                                batch_size=32,\n",
        "                                epochs=5,\n",
        "                                validation_data = (x_test_sps, y_test))"
      ],
      "execution_count": 0,
      "outputs": []
    },
    {
      "cell_type": "markdown",
      "metadata": {
        "id": "OQUvuhDXFQVh",
        "colab_type": "text"
      },
      "source": [
        "### 設定學習率，準確率只能稍微再提升一點點，準確率約96.8%"
      ]
    },
    {
      "cell_type": "code",
      "metadata": {
        "id": "LdHJor3yFQVi",
        "colab_type": "code",
        "colab": {}
      },
      "source": [
        "#N1 = 24 #文字要壓到N1維\n",
        "#K1 = 4 #LSTM有K1個神經元\n",
        "\n",
        "model_c3 = Sequential()\n",
        "\n",
        "model_c3.add(Embedding(10000,N1))\n",
        "model_c3.add(LSTM(K1))\n",
        "\n",
        "model_c3.add(Dense(1, activation='sigmoid'))\n",
        "\n",
        "model_c3.compile(loss='binary_crossentropy',\n",
        "                 optimizer='SGD',\n",
        "                 metrics=['accuracy'])\n",
        "\n",
        "model_history_c3 = model_c3.fit(x_train_sps,y_train_c,\n",
        "                                batch_size=32,\n",
        "                                epochs=5,\n",
        "                                validation_data = (x_test_sps, y_test))"
      ],
      "execution_count": 0,
      "outputs": []
    },
    {
      "cell_type": "markdown",
      "metadata": {
        "id": "Wy2zOK_yFQVm",
        "colab_type": "text"
      },
      "source": [
        "### 超弱的SGD，同樣的epoch次數下，根本沒準確度可言...52.9%"
      ]
    },
    {
      "cell_type": "code",
      "metadata": {
        "id": "v2wZVEn-FQVn",
        "colab_type": "code",
        "colab": {}
      },
      "source": [
        ""
      ],
      "execution_count": 0,
      "outputs": []
    }
  ]
}